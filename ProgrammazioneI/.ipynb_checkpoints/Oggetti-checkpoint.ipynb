{
 "cells": [
  {
   "cell_type": "markdown",
   "id": "34ee12d2-7658-4360-ac70-26a3ac59b679",
   "metadata": {},
   "source": [
    "## Oggetti"
   ]
  },
  {
   "cell_type": "markdown",
   "id": "686358df-ef01-42b5-9954-28b4af14ac52",
   "metadata": {},
   "source": [
    "Definizione di oggetti:\n",
    "<br>\n",
    "Un oggetto è un'entità che incapsula dati e comportamenti all'interno di un programma. Gli oggetti sono istanze di una classe che definisce la struttura e la funzionalità che tali oggetti deveno avere.\n",
    "<br>\n",
    "Un oggetto combina:\n",
    "- Attributi (proprietà) che rappresentano i dati o lo stato dell'oggetto;\n",
    "- Metodi (funzioni), che definiscono il comportamento dell'oggetto ovvero definisce tutte le possibili operazioni effettuabili su quello specifico oggetto\n",
    "\n",
    "Un oggetto è contraddistinto da tre atributi fondamentali:\n",
    "- Identità;\n",
    "- Tipo;\n",
    "- Valore;\n",
    "\n",
    "#### Identità\n",
    "L'identità è l'attributo che rappresenta una caratteristica che distingue un oggetto dagli altri durante la sua esistenza in memoria. L'identità è un attributo univoco che consente di riconoscere un oggetto anche se il suo stato o il suo contenuto possono essere uguali ad altri oggetti\n",
    "<br>\n",
    "Ogni oggetto in Python ha un'identità unica durante la sua esistenza, e questa identità è mantenuta finché l'oggetto non viene distrutto o rimosso dalla memoria\n",
    "<br>\n",
    "Caratteristiche: \n",
    "- Univoca: ogni oggetto ha un'identità diversa dagli altri oggetti\n",
    "- Invariabile: L'identità di un oggetto non cambia durante la vita dell'oggetto"
   ]
  },
  {
   "cell_type": "code",
   "execution_count": 20,
   "id": "bda6980e-f7b0-4b48-adb3-30245fb78300",
   "metadata": {},
   "outputs": [
    {
     "name": "stdout",
     "output_type": "stream",
     "text": [
      "ID di A:  140082153249256\n",
      "ID di B:  140082153249224\n",
      "ID di True:  140082153245856\n"
     ]
    }
   ],
   "source": [
    "a = 3\n",
    "b = 2\n",
    "print(\"ID di A: \", id(a))\n",
    "print(\"ID di B: \", id(b))\n",
    "print(\"ID di True: \", id(True))"
   ]
  },
  {
   "cell_type": "markdown",
   "id": "bb856212-45c3-4627-ac24-1e7597f0f591",
   "metadata": {},
   "source": [
    "Un riferimento a un oggetto è un oggetto che punta a un altro oggetto. quando si assegna un oggetto a una variabile la variabile non contiene direttamente l'oggetto stesso bensì un riferimento all'oggetto memorizzato, questo implica che due variabili possono fare riferimento allo stesso oggetto"
   ]
  },
  {
   "cell_type": "markdown",
   "id": "da9f69e8-6d3e-47d4-a3ed-1cfbee935cbc",
   "metadata": {},
   "source": [
    "#### Tipo\n",
    "\n",
    "il tipo è l'attributo che definisce la natura dell'oggetto e le operazioni che possono essere eseguite su di esso. il tipo di un oggetto determina il suo comportamento  come può essere manipolato, oltre a specificare che tipo di dati esso contiene\n",
    "\n",
    "##### Tipi di oggetto in Python\n",
    "- Numeri Interi (int);\n",
    "- Numeri in virgola mobile (float);\n",
    "- Numeri complessi (complex);\n",
    "- Stringhe (str);\n",
    "- Liste, collezzioni ordinate di oggetti (list);\n",
    "- Tuples: collezioni ordinate di oggetti immutabili (tuple);\n",
    "- Dizionari: collezzioni di coppie chiave-valore (dict);\n",
    "- Set: collezioni non ordinate di oggetti unici (set);\n",
    "- Oggetti personalizzati: Istanze di classi definite dall'utente;\n",
    "\n",
    "<br>\n",
    "Il tipo di un oggetto è ottenibile utilizzando la funzione type()\n",
    "<br>\n",
    "\n",
    "Caratteristiche del tipo di un oggetto in Python:\n",
    "\n",
    "- Dinamico: in Python i tipi, sono associati agli oggetti, non alle variabili questo significa che una variabile può riferirsi a oggetti di diversi tipi in momenti diversi durante l'esecuzione del programma (tipizzazione dinamica);\n",
    "\n",
    "- Flessibile: gli oggetti in Python sono fortemente tipizzati, il che significa che non puoi implicitamente convertire tra tipi incompatibili tuttavia sono presenti funzioni che consentono conversione esplicita\n",
    "\n",
    "<br>\n",
    "Poiché Python usa una tipizzazione dinamica, il tipo di un oggetto viene determinato al momento dell'esecuzione e non deve essere dichiarato in anticipo"
   ]
  },
  {
   "cell_type": "code",
   "execution_count": 10,
   "id": "0650a65c-9dad-4e74-9fad-7ea2e706b0eb",
   "metadata": {},
   "outputs": [
    {
     "name": "stdout",
     "output_type": "stream",
     "text": [
      "Tipo di x:  <class 'int'>  valore di x:  1\n",
      "Tipo di a:  <class 'float'>  valore di a:  1.0\n",
      "Tipo di b:  <class 'complex'>  valore di b:  (2+0j)\n",
      "Tipo di y:  <class 'str'>  valore di y:  c\n",
      "Tipo di c:  <class 'list'>  valore di c:  [1, 2.0, 'c', (1+0j)]\n",
      "Tipo di d:  <class 'tuple'>  valore di d:  (1, 'c', 1.0, (1+0j))\n",
      "Tipo di e:  <class 'set'>  valore di e:  {1, 'c'}\n"
     ]
    }
   ],
   "source": [
    "## Intero -> int\n",
    "x = 1\n",
    "print(\"Tipo di x: \", type(x), \" valore di x: \", x)\n",
    "\n",
    "## Virgola mobile -> float\n",
    "a = 1.0\n",
    "print(\"Tipo di a: \", type(a), \" valore di a: \", a)\n",
    "\n",
    "## Complesso -> complex\n",
    "b = complex(2)\n",
    "print(\"Tipo di b: \", type(b), \" valore di b: \", b)\n",
    "\n",
    "## Stringa -> str\n",
    "y = 'c'\n",
    "print(\"Tipo di y: \", type(y), \" valore di y: \", y)\n",
    "\n",
    "## Lista -> list\n",
    "c = [1,2.0,'c', complex(1)]\n",
    "print(\"Tipo di c: \", type(c), \" valore di c: \", c)\n",
    "\n",
    "## Tupla -> tuples\n",
    "d = (1, 'c', 1.0, complex(1))\n",
    "print(\"Tipo di d: \", type(d), \" valore di d: \", d)\n",
    "\n",
    "## Set -> set\n",
    "e = {1, 'c', 1.0, complex(1)}\n",
    "print(\"Tipo di e: \", type(e), \" valore di e: \", e)"
   ]
  },
  {
   "cell_type": "code",
   "execution_count": 12,
   "id": "b5cea3ec-b9c3-42b1-b140-e3aba4d4f0c8",
   "metadata": {},
   "outputs": [
    {
     "name": "stdout",
     "output_type": "stream",
     "text": [
      "Tipo di p1:  <class '__main__.Punto'>\n"
     ]
    }
   ],
   "source": [
    "class Punto:\n",
    "    def __init__(self, x, y):\n",
    "        self.x = x\n",
    "        self.y = y\n",
    "\n",
    "p1 = Punto(1, 3)\n",
    "print(\"Tipo di p1: \", type(p1))"
   ]
  },
  {
   "cell_type": "markdown",
   "id": "b0b31dec-8cbc-4714-985c-8ba316339263",
   "metadata": {},
   "source": [
    "#### Valore\n",
    "Il valore di un oggetto è il contenuto o lo stato (riferimento) associato all'oggetto stesso, ovvero i dati che esso rappresenta o conserva.\n",
    "Il valore di un oggetto è ciò che può essere manipolato e utilizzato tramite gli operatori definiti per l'oggetto specifico"
   ]
  },
  {
   "cell_type": "code",
   "execution_count": 56,
   "id": "26b09275-01aa-4f04-8c3f-737b7b07c997",
   "metadata": {},
   "outputs": [
    {
     "name": "stdout",
     "output_type": "stream",
     "text": [
      "Prima condizione:  True\n",
      "Seconda condizione:  False\n"
     ]
    }
   ],
   "source": [
    "x,y = 0, 0\n",
    "condition = (x is y)\n",
    "print(\"Prima condizione: \", condition)\n",
    "\n",
    "x += 1\n",
    "condition = (x is y)\n",
    "print(\"Seconda condizione: \", condition)"
   ]
  },
  {
   "cell_type": "markdown",
   "id": "ff15e121-17af-4fd3-887b-92b9c5cbaf25",
   "metadata": {},
   "source": [
    "#### Overloading dell'operatore \n",
    "\n",
    "L'overloading dell'operatore è una funzionalità che permette di ridefinire il comportamento degli operatori predefiniti come: $+$, $-$, $*$, $==$. quando vengono applicati a oggetti di una classe personalizzata, consente quindi di far sì che gli operatori eseguano operazioni diverse a seconda del tipo degli operandi.\n",
    "<br>\n",
    "L'overloading viene implementato definendo metodi speciali all'interno di una classe.\n",
    "\n",
    "- $__add__$ sovrascrive l'operatore $+$;\n",
    "- $__sub__$ sovrascrive l'operatore $-$;\n",
    "- $__eq__$ sovrascrive l'operatore $==$;"
   ]
  },
  {
   "cell_type": "code",
   "execution_count": 57,
   "id": "d6ba14ef-e6ca-46ff-8dfb-af981b71a770",
   "metadata": {},
   "outputs": [
    {
     "ename": "ModuleNotFoundError",
     "evalue": "No module named 'sympy'",
     "output_type": "error",
     "traceback": [
      "\u001b[0;31m---------------------------------------------------------------------------\u001b[0m",
      "\u001b[0;31mModuleNotFoundError\u001b[0m                       Traceback (most recent call last)",
      "Cell \u001b[0;32mIn[57], line 2\u001b[0m\n\u001b[1;32m      1\u001b[0m \u001b[38;5;66;03m## Overloading dell'operatore su oggetti (str)\u001b[39;00m\n\u001b[0;32m----> 2\u001b[0m \u001b[38;5;28;01mimport\u001b[39;00m \u001b[38;5;21;01msympy\u001b[39;00m\n\u001b[1;32m      4\u001b[0m \u001b[38;5;28mprint\u001b[39m(\u001b[38;5;124m\"\u001b[39m\u001b[38;5;124m\"\u001b[39m)\n",
      "\u001b[0;31mModuleNotFoundError\u001b[0m: No module named 'sympy'"
     ]
    }
   ],
   "source": [
    "## Overloading dell'operatore su oggetti (str)\n",
    "from IPython.display import display, Math, Latex\n",
    "\n",
    "print(\"\")"
   ]
  },
  {
   "cell_type": "code",
   "execution_count": 59,
   "id": "09da41d0-aac5-4953-bab8-a03a1b71d1f3",
   "metadata": {},
   "outputs": [
    {
     "name": "stdout",
     "output_type": "stream",
     "text": [
      "Punto(3, 3)\n"
     ]
    }
   ],
   "source": [
    "class Punto: \n",
    "    def __init__(self, x, y):\n",
    "        self.x = x\n",
    "        self.y = y\n",
    "\n",
    "    # Sovraccarica dell'operatore '+'\n",
    "    def __add__(self, point):\n",
    "        return Punto(self.x + point.x, self.y + point.y)\n",
    "\n",
    "    def __repr__(self):\n",
    "        return f\"Punto({self.x}, {self.y})\"\n",
    "\n",
    "# Creazione di due oggetti appartenenti alla classe punto\n",
    "p1 = Punto(1,2)\n",
    "p2 = Punto(2,1)\n",
    "\n",
    "p3 = p1 + p2\n",
    "print(p3)"
   ]
  },
  {
   "cell_type": "markdown",
   "id": "d2618ef8-1444-4643-aea5-f64274d4f060",
   "metadata": {},
   "source": [
    "#### Ordine degli operatori \n",
    "\n",
    "L'ordine degli operatori si riferisce alla sequenza in cui le operazioni vengono eseguite quando ci sono più operatori presenti in una singola espressione\n",
    "<br>\n",
    "L'ordine è il seguente:\n",
    "<ul>\n",
    "    <li>Operatori di parentesi</li>\n",
    "    <li>Operatore di accesso agli attributi e indici: obj.attr, obj[0], obj(), obj[a:b]</li>\n",
    "    <li>Operatore di esponenziazione **</li>\n",
    "    <li>Operazioni unitarie $+x, -x, ~x$ negazione bit a bit</li>\n",
    "    <li>Operatori moltiplicativi: $*, /, //, %$</li>\n",
    "    <li>Operatori additivi: $+, -$</li>\n",
    "    <li>Operatori di shift: $<<, >>$</li>\n",
    "    <li>Operatori bit a bit: $&, ^, |$</li>\n",
    "    <li>Operatori di confronto: $<, <=, >, >=, ==, !=$</li>\n",
    "    <li>Operatori di assegnamento e appartenenza: in, not in, is, is not</li>\n",
    "    <li>Operatori logici: not, and, or</li>\n",
    "    <li>Operatori di assegnazione: $=, +=, -=, *=, /=$</li>\n",
    "    <li>Operatori condizionale</li>    \n",
    "</ul>"
   ]
  },
  {
   "cell_type": "code",
   "execution_count": 26,
   "id": "12bb547b-b27f-4565-976a-c5baf33834db",
   "metadata": {},
   "outputs": [
    {
     "name": "stdout",
     "output_type": "stream",
     "text": [
      "15\n"
     ]
    }
   ],
   "source": [
    "## Operatori di parentesi\n",
    "a = (2 + 3) * 3\n",
    "print(a)"
   ]
  },
  {
   "cell_type": "code",
   "execution_count": 27,
   "id": "bf5e59c2-0f81-4097-9431-0d02fb54ba6e",
   "metadata": {},
   "outputs": [
    {
     "name": "stdout",
     "output_type": "stream",
     "text": [
      "256\n"
     ]
    }
   ],
   "source": [
    "## Operatore esponenziale\n",
    "a = 2**8\n",
    "print(a)"
   ]
  },
  {
   "cell_type": "code",
   "execution_count": 28,
   "id": "67055b07-c256-4894-9231-f9cbc6785554",
   "metadata": {},
   "outputs": [
    {
     "name": "stdout",
     "output_type": "stream",
     "text": [
      "-5\n"
     ]
    }
   ],
   "source": [
    "## Operazioni unitarie\n",
    "a = 5\n",
    "print(-a) # dove a rappresenta l'operatore unitario"
   ]
  },
  {
   "cell_type": "code",
   "execution_count": 29,
   "id": "4137dc56-94db-41a4-b372-87467ff75f52",
   "metadata": {},
   "outputs": [
    {
     "name": "stdout",
     "output_type": "stream",
     "text": [
      "20\n"
     ]
    }
   ],
   "source": [
    "## Operatori moltiplicativi\n",
    "a = 10 * 2\n",
    "print(a)"
   ]
  },
  {
   "cell_type": "code",
   "execution_count": 30,
   "id": "7dabd388-64a4-43e1-9e99-7d3fb50a39d3",
   "metadata": {},
   "outputs": [
    {
     "name": "stdout",
     "output_type": "stream",
     "text": [
      "35\n"
     ]
    }
   ],
   "source": [
    "## Operatori Additivi\n",
    "a = 10 + 25\n",
    "print(a)"
   ]
  },
  {
   "cell_type": "code",
   "execution_count": 37,
   "id": "2c9959c4-88f5-4637-96ef-3b854243fcb0",
   "metadata": {},
   "outputs": [
    {
     "name": "stdout",
     "output_type": "stream",
     "text": [
      "a:  4\n",
      "b:  1\n"
     ]
    }
   ],
   "source": [
    "## Operatori di shift\n",
    "a = 2 << 1\n",
    "print(\"a: \", a)\n",
    "\n",
    "b = 2 >> 1\n",
    "print(\"b: \", b)"
   ]
  },
  {
   "cell_type": "code",
   "execution_count": 42,
   "id": "16b35181-e4d5-4be5-ad8c-bdb2eb5d942c",
   "metadata": {},
   "outputs": [
    {
     "name": "stdout",
     "output_type": "stream",
     "text": [
      "a:  1\n",
      "b:  7\n",
      "c:  6\n"
     ]
    }
   ],
   "source": [
    "## Operatori bit a bit\n",
    "a = 5 & 3\n",
    "print(\"a: \", a)\n",
    "\n",
    "b = 5 | 3\n",
    "print(\"b: \", b)\n",
    "\n",
    "c = 5 ^ 3\n",
    "print(\"c: \", c)"
   ]
  },
  {
   "cell_type": "code",
   "execution_count": 43,
   "id": "4e0d1080-c6d6-4de8-aa54-095158136d12",
   "metadata": {},
   "outputs": [
    {
     "name": "stdout",
     "output_type": "stream",
     "text": [
      "a:  False\n",
      "b:  True\n"
     ]
    }
   ],
   "source": [
    "## Operatori di confronto\n",
    "a = 3 > 5\n",
    "print(\"a: \", a)\n",
    "\n",
    "b = 5 == 5\n",
    "print(\"b: \", b)"
   ]
  },
  {
   "cell_type": "code",
   "execution_count": 44,
   "id": "f521ef95-9e8e-4f2f-9796-b9281c8fa2c7",
   "metadata": {},
   "outputs": [
    {
     "name": "stdout",
     "output_type": "stream",
     "text": [
      "a:  True\n",
      "c:  False\n"
     ]
    }
   ],
   "source": [
    "## Operatori di assegnamento e appartenenza\n",
    "a = 3 in [1, 2, 3]\n",
    "print(\"a: \", a)\n",
    "b = ''\n",
    "\n",
    "c = b is a\n",
    "print(\"c: \", c)"
   ]
  },
  {
   "cell_type": "code",
   "execution_count": 45,
   "id": "103822ca-401d-4252-be54-b5c65a9a10a3",
   "metadata": {},
   "outputs": [
    {
     "name": "stdout",
     "output_type": "stream",
     "text": [
      "a:  False\n",
      "b:  False\n",
      "c:  True\n"
     ]
    }
   ],
   "source": [
    "## Operatori logici\n",
    "a = not True\n",
    "b = True and False\n",
    "c = True or False\n",
    "\n",
    "print(\"a: \", a)\n",
    "print(\"b: \", b)\n",
    "print(\"c: \", c)"
   ]
  },
  {
   "cell_type": "code",
   "execution_count": 46,
   "id": "29c1d464-fb99-42f5-b416-708c57d5ab71",
   "metadata": {},
   "outputs": [
    {
     "name": "stdout",
     "output_type": "stream",
     "text": [
      "6\n"
     ]
    }
   ],
   "source": [
    "## Operatore di assegnazione\n",
    "x = 5\n",
    "x += 1\n",
    "print(x)"
   ]
  },
  {
   "cell_type": "code",
   "execution_count": 47,
   "id": "a859a7c1-a42f-443d-923b-ddac48f0ab97",
   "metadata": {},
   "outputs": [
    {
     "name": "stdout",
     "output_type": "stream",
     "text": [
      "True\n"
     ]
    }
   ],
   "source": [
    "## Operatore condizionale (inline if)\n",
    "a = True\n",
    "res = \"Positivo\" if a == True else \"Negativo\"\n",
    "\n",
    "print(a)"
   ]
  },
  {
   "cell_type": "markdown",
   "id": "2e4c2ea0-1867-4c94-8f04-1ee918041d6a",
   "metadata": {},
   "source": [
    "#### Funzioni\n",
    "\n",
    "Una funzione è un blocco di codice riutilizzabile che esegue un'operazione specifica. Le funzioni possono accettare parametri (input) e restituire valori (output).\n",
    "<br>\n",
    "Gli output sono veri e propri oggetti, oltre a ritornare oggetti le funzioni permettono di cambiare lo stato del singolo oggetto"
   ]
  },
  {
   "cell_type": "code",
   "execution_count": 34,
   "id": "ab23eb28-fd1d-4b49-a78c-8a3927190a4c",
   "metadata": {},
   "outputs": [
    {
     "name": "stdout",
     "output_type": "stream",
     "text": [
      "4\n",
      "<class 'int'>\n"
     ]
    }
   ],
   "source": [
    "print(len(\"abcd\"))\n",
    "print(type(len(\"abcd\")))"
   ]
  },
  {
   "cell_type": "code",
   "execution_count": 50,
   "id": "9657d97e-526d-448c-8da5-d1c92b431d8f",
   "metadata": {},
   "outputs": [
    {
     "name": "stdout",
     "output_type": "stream",
     "text": [
      "1.0471975511965976\n",
      "<class 'float'>\n"
     ]
    }
   ],
   "source": [
    "import math\n",
    "\n",
    "def convert_degrees_to_radians(degree):\n",
    "    return degree / 180 * math.pi\n",
    "    \n",
    "deg = 60\n",
    "rad = convert_degrees_to_radians(deg)\n",
    "\n",
    "print(rad)\n",
    "print(type(rad))"
   ]
  },
  {
   "cell_type": "markdown",
   "id": "3a9f7073-196b-4c53-b005-1ccc15fcf5ca",
   "metadata": {},
   "source": [
    "#### Variabili\n",
    "\n",
    "Una variabile è un identificativo simbolico associato a un oggetto che contiene un valore, in altre parole una variabile agisce come un riferimento o etichetta che punta a un oggetto mmemorizzato in memoria"
   ]
  },
  {
   "cell_type": "code",
   "execution_count": 52,
   "id": "16e613e4-6042-4ef0-a4b0-b158a9a2277a",
   "metadata": {},
   "outputs": [
    {
     "name": "stdout",
     "output_type": "stream",
     "text": [
      "Valore iniziale di x:  0\n",
      "Valore finale di x:  45\n"
     ]
    }
   ],
   "source": [
    "x = 0\n",
    "print(\"Valore iniziale di x: \", x)\n",
    "\n",
    "for i in range (0, 10):\n",
    "    x += i\n",
    "\n",
    "print(\"Valore finale di x: \", x)"
   ]
  }
 ],
 "metadata": {
  "kernelspec": {
   "display_name": "Python 3 (ipykernel)",
   "language": "python",
   "name": "python3"
  },
  "language_info": {
   "codemirror_mode": {
    "name": "ipython",
    "version": 3
   },
   "file_extension": ".py",
   "mimetype": "text/x-python",
   "name": "python",
   "nbconvert_exporter": "python",
   "pygments_lexer": "ipython3",
   "version": "3.12.7"
  }
 },
 "nbformat": 4,
 "nbformat_minor": 5
}

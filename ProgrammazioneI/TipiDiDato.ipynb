{
 "cells": [
  {
   "cell_type": "markdown",
   "id": "11647679-6c6a-4196-a15f-3aeeb25c69a4",
   "metadata": {},
   "source": [
    "## Tipi di dato"
   ]
  },
  {
   "cell_type": "markdown",
   "id": "579e876b-a3e0-4776-88ed-ccc3ae362edc",
   "metadata": {},
   "source": [
    "#### Tipi atomici\n",
    "\n",
    "TODO: Grandezza di tipi dati "
   ]
  },
  {
   "cell_type": "code",
   "execution_count": 1,
   "id": "d4dafc03-8025-4aee-afec-3d287d1f6627",
   "metadata": {},
   "outputs": [
    {
     "data": {
      "text/plain": [
       "2"
      ]
     },
     "execution_count": 1,
     "metadata": {},
     "output_type": "execute_result"
    }
   ],
   "source": [
    "a = [1, 2, 3]\n",
    "a[-2]"
   ]
  },
  {
   "cell_type": "code",
   "execution_count": 9,
   "id": "c435f090-b6ec-4e70-9088-1b15eb2ceff8",
   "metadata": {},
   "outputs": [
    {
     "data": {
      "text/plain": [
       "(2+2j)"
      ]
     },
     "execution_count": 9,
     "metadata": {},
     "output_type": "execute_result"
    }
   ],
   "source": [
    "2 + 2j"
   ]
  },
  {
   "cell_type": "code",
   "execution_count": 10,
   "id": "226dbcf9-fcb8-46f5-885e-38d0f7653460",
   "metadata": {},
   "outputs": [],
   "source": [
    "c = 1 + 1j*5"
   ]
  },
  {
   "cell_type": "code",
   "execution_count": 11,
   "id": "d8a0f88e-ed89-4107-91b1-4f453e03a2f1",
   "metadata": {},
   "outputs": [
    {
     "data": {
      "text/plain": [
       "(1+5j)"
      ]
     },
     "execution_count": 11,
     "metadata": {},
     "output_type": "execute_result"
    }
   ],
   "source": [
    "c"
   ]
  },
  {
   "cell_type": "code",
   "execution_count": 12,
   "id": "4c66ed17-0290-4593-93e1-0a98e77b82cc",
   "metadata": {},
   "outputs": [
    {
     "data": {
      "text/plain": [
       "1.0"
      ]
     },
     "execution_count": 12,
     "metadata": {},
     "output_type": "execute_result"
    }
   ],
   "source": [
    "c.real"
   ]
  },
  {
   "cell_type": "code",
   "execution_count": 13,
   "id": "b79b18e7-a802-469f-81a4-e757bd6538f1",
   "metadata": {},
   "outputs": [
    {
     "data": {
      "text/plain": [
       "5.0"
      ]
     },
     "execution_count": 13,
     "metadata": {},
     "output_type": "execute_result"
    }
   ],
   "source": [
    "c.imag"
   ]
  },
  {
   "cell_type": "code",
   "execution_count": 27,
   "id": "78d8d2b5-3a4d-46ea-94ee-f5e99a66ed8c",
   "metadata": {},
   "outputs": [
    {
     "data": {
      "text/plain": [
       "(5.1+3j)"
      ]
     },
     "execution_count": 27,
     "metadata": {},
     "output_type": "execute_result"
    }
   ],
   "source": [
    "c = 2 +3j\n",
    "f = 3.1\n",
    "\n",
    "c + f"
   ]
  },
  {
   "cell_type": "code",
   "execution_count": null,
   "id": "8805fcbc-d006-44cb-bde3-253fe10b04ff",
   "metadata": {},
   "outputs": [],
   "source": []
  }
 ],
 "metadata": {
  "kernelspec": {
   "display_name": "Python 3 (ipykernel)",
   "language": "python",
   "name": "python3"
  },
  "language_info": {
   "codemirror_mode": {
    "name": "ipython",
    "version": 3
   },
   "file_extension": ".py",
   "mimetype": "text/x-python",
   "name": "python",
   "nbconvert_exporter": "python",
   "pygments_lexer": "ipython3",
   "version": "3.12.7"
  }
 },
 "nbformat": 4,
 "nbformat_minor": 5
}

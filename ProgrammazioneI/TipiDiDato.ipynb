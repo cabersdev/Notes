{
 "cells": [
  {
   "cell_type": "markdown",
   "id": "11647679-6c6a-4196-a15f-3aeeb25c69a4",
   "metadata": {},
   "source": [
    "## Tipi di dato"
   ]
  },
  {
   "cell_type": "markdown",
   "id": "579e876b-a3e0-4776-88ed-ccc3ae362edc",
   "metadata": {},
   "source": [
    "#### Tipi atomici\n",
    "\n",
    "I tipi atomici (o tipi primitivi) sono i tipi di dati più semplici e fondamentali, utilizzati per rappresentare valori di base. Ecco una descrizione dei tipi atomici principali:\n",
    "<ul>\n",
    "    <li>int (Intero): Rappresenta numeri interi, positivi o negativi, senza parte decimale. Esempio: 42, -7, 0;</li>\n",
    "    <li>float (Virgola mobile): Rappresenta numeri reali con parte decimale, anche espressi in notazione scientifica. Esempio: 3.14, -0.001, 2e3 (che rappresenta 2×1032×103);</li>\n",
    "    <li>complex (Complesso): Rappresenta numeri complessi, con una parte reale e una parte immaginaria. La parte immaginaria è indicata con j. Esempio: 3 + 4j, -2 - 5j;</li>\n",
    "    <li>bool (Booleano): Rappresenta valori logici True o False. È una sotto-classe degli interi, in cui True corrisponde a 1 e False a 0;</li>\n",
    "    <li>str (Stringa): Rappresenta sequenze di caratteri, utilizzate per memorizzare testo. Le stringhe sono immutabili, il che significa che non possono essere modificate dopo la creazione. Esempio: \"c\", 'abab';</li>\n",
    "    <li>bytes: Rappresenta sequenze immutabili di byte, utilizzate per gestire dati binari. Ogni elemento è un numero intero tra 0 e 255. Esempio: b'hello';</li>\n",
    "    <li>bytearray: Simile a bytes, ma mutabile, permettendo la modifica dei byte dopo la creazione. Utilizzato principalmente per manipolazioni binarie quando è necessaria mutabilità;</li>\n",
    "    <li>NoneType: Ha un solo valore possibile, None, che rappresenta l'assenza di un valore o un valore nullo;</li>\n",
    "</ul>"
   ]
  },
  {
   "cell_type": "code",
   "execution_count": 8,
   "id": "47dd5c79-4658-4d0d-812e-018a4399064e",
   "metadata": {},
   "outputs": [
    {
     "name": "stdout",
     "output_type": "stream",
     "text": [
      "1\n",
      "Bit di n: 1\n",
      "Bytes di n: b'\\x00\\x01'\n"
     ]
    }
   ],
   "source": [
    "## int\n",
    "\n",
    "n = 1\n",
    "print(n)\n",
    "print(f\"Bit di n: {n.bit_length()}\")\n",
    "print(f\"Bytes di n: {n.to_bytes(2, 'big')}\")"
   ]
  },
  {
   "cell_type": "code",
   "execution_count": 11,
   "id": "9c2fac4b-913f-481a-9f75-512217e90338",
   "metadata": {},
   "outputs": [
    {
     "name": "stdout",
     "output_type": "stream",
     "text": [
      "3.1415\n",
      "Rappresentazione frazionaria: {f.as_integer_ratio()}\n"
     ]
    }
   ],
   "source": [
    "## float\n",
    "f = 3.1415\n",
    "\n",
    "print(f)\n",
    "print(\"Rappresentazione frazionaria: {f.as_integer_ratio()}\")\n"
   ]
  },
  {
   "cell_type": "code",
   "execution_count": 15,
   "id": "e483ec18-2be5-4c87-b55b-2eb167259d6f",
   "metadata": {},
   "outputs": [
    {
     "name": "stdout",
     "output_type": "stream",
     "text": [
      "(1+1j)\n",
      "Parte reale: 1.0\n",
      "Parte immaginaria: 1.0\n",
      "Coniugato: (1-1j)\n"
     ]
    }
   ],
   "source": [
    "## complex\n",
    "\n",
    "c = 1 + 1j\n",
    "print(c)\n",
    "\n",
    "print(f\"Parte reale: {c.real}\")\n",
    "print(f\"Parte immaginaria: {c.imag}\")\n",
    "print(f\"Coniugato: {c.conjugate()}\")"
   ]
  },
  {
   "cell_type": "code",
   "execution_count": 17,
   "id": "3ce1cfa3-99f9-4914-861e-6e2fee5a63eb",
   "metadata": {},
   "outputs": [
    {
     "name": "stdout",
     "output_type": "stream",
     "text": [
      "Intero equivalente: 1\n",
      "Stringa equivalente: True\n"
     ]
    }
   ],
   "source": [
    "## bool\n",
    "v = True\n",
    "\n",
    "print(f\"Intero equivalente: {int(v)}\")\n",
    "print(f\"Stringa equivalente: {str(v)}\")"
   ]
  },
  {
   "cell_type": "code",
   "execution_count": 23,
   "id": "80d568d3-4567-49ee-89da-c057f9ea0785",
   "metadata": {},
   "outputs": [
    {
     "name": "stdout",
     "output_type": "stream",
     "text": [
      "Assioma\n",
      "Maiuscolo: ASSIOMA\n",
      "Ricerca str: 1\n",
      "Sostiuzione: Concetto Primitivo\n"
     ]
    }
   ],
   "source": [
    "## str\n",
    "t = \"Assioma\"\n",
    "print(t)\n",
    "print(f\"Maiuscolo: {t.upper()}\")\n",
    "print(f\"Ricerca str: {t.find(\"s\")}\")\n",
    "print(f\"Sostiuzione: {t.replace(\"Assioma\", \"Concetto Primitivo\")}\")"
   ]
  },
  {
   "cell_type": "code",
   "execution_count": 26,
   "id": "e1eace98-59d4-4c07-bb95-3020a1227aaa",
   "metadata": {},
   "outputs": [
    {
     "name": "stdout",
     "output_type": "stream",
     "text": [
      "b'Assioma'\n",
      "Decodificato: Assioma\n",
      "Rappresentazione esadecimale 417373696f6d61\n"
     ]
    }
   ],
   "source": [
    "## bytes\n",
    "dati = b'Assioma'\n",
    "\n",
    "print(dati)\n",
    "print(f\"Decodificato: {dati.decode(\"utf-8\")}\")\n",
    "\n",
    "print(f\"Rappresentazione esadecimale {dati.hex()}\")"
   ]
  },
  {
   "cell_type": "code",
   "execution_count": 28,
   "id": "d3ec821a-7e65-4198-859c-18bfbb920140",
   "metadata": {},
   "outputs": [
    {
     "name": "stdout",
     "output_type": "stream",
     "text": [
      "bytearray(b'Assioma')\n",
      "bytearray(b'Assioma!')\n"
     ]
    }
   ],
   "source": [
    "## byte array\n",
    "dati = bytearray(b'Assioma')\n",
    "\n",
    "print(dati)\n",
    "dati.append(33) # aggiunge '!'\n",
    "\n",
    "print(dati)"
   ]
  },
  {
   "cell_type": "code",
   "execution_count": 30,
   "id": "67dfbb95-3e00-48ac-8487-6d333d722d6d",
   "metadata": {},
   "outputs": [
    {
     "name": "stdout",
     "output_type": "stream",
     "text": [
      "None\n"
     ]
    },
    {
     "data": {
      "text/plain": [
       "True"
      ]
     },
     "execution_count": 30,
     "metadata": {},
     "output_type": "execute_result"
    }
   ],
   "source": [
    "## none\n",
    "v = None\n",
    "\n",
    "print(v)\n",
    "\n",
    "v is None"
   ]
  },
  {
   "cell_type": "markdown",
   "id": "d7fe5b7e-2128-473c-a6b8-f3c5014f7762",
   "metadata": {},
   "source": [
    "#### Tipi strutturati\n",
    "I tipi strutturati o strutture di dati. sono tipi che consentono di memorizzare e organizzare più valori e includono:\n",
    "\n",
    "<ul>\n",
    "    <li>Liste (list): Collezioni mutabili e ordinate di elementi, che possono contenere tipi diversi;</li>\n",
    "    <li>Tuple (tuples): Collezioni ordinate ma immutabili di elementi, simili alle liste ma non modificabili dopo la creazione;</li>\n",
    "    <li>Dizionari (dict): Collezioni di coppie chiave-valore, in cui ogni chiave è unica e mappa a un valore;</li>\n",
    "    <li>Set (set): Collezioni non ordinate e non indicizzate di elementi unici;</li>\n",
    "    <li>Frozen set (frozenset): Versione immutabile dei set;</li>\n",
    "</ul>"
   ]
  },
  {
   "cell_type": "code",
   "execution_count": 55,
   "id": "21981d47-03bf-440b-90ab-b409c07b455f",
   "metadata": {},
   "outputs": [
    {
     "name": "stdout",
     "output_type": "stream",
     "text": [
      "Temperature: [21.5, 22.0, 19.8, 20.4, 22.1, 21.7, 20.9]\n",
      "Temperature: [21.5, 22.0, 19.8, 20.4, 22.1, 21.7, 20.9, 23.2]\n",
      "Temperature massima: 23.2\n",
      "Temperature minima: 19.8\n"
     ]
    }
   ],
   "source": [
    "## list\n",
    "\n",
    "temperature = [21.5, 22.0, 19.8, 20.4, 22.1, 21.7, 20.9]\n",
    "print(f\"Temperature: {temperature}\")\n",
    "temperature.append(23.2)\n",
    "print(f\"Temperature: {temperature}\")\n",
    "\n",
    "temp_massima = max(temperature)\n",
    "temp_minima = min(temperature)\n",
    "\n",
    "print(f\"Temperature massima: {temp_massima}\")\n",
    "print(f\"Temperature minima: {temp_minima}\")"
   ]
  },
  {
   "cell_type": "code",
   "execution_count": 33,
   "id": "6c067b58-7542-472f-859a-dd6d98d0351a",
   "metadata": {},
   "outputs": [
    {
     "name": "stdout",
     "output_type": "stream",
     "text": [
      "Volte in cui compare il 10.0:  2\n",
      "Indice di 20.0:  1\n"
     ]
    }
   ],
   "source": [
    "## tuple\n",
    "coordinate = (10.0, 20.0, 10.0)\n",
    "\n",
    "print(\"Volte in cui compare il 10.0: \", coordinate.count(10.0))\n",
    "print(\"Indice di 20.0: \", coordinate.index(20.0))"
   ]
  },
  {
   "cell_type": "code",
   "execution_count": 53,
   "id": "30d66e04-15c6-4abb-87d1-3861590234b9",
   "metadata": {},
   "outputs": [
    {
     "name": "stdout",
     "output_type": "stream",
     "text": [
      "3.141592653589793\n",
      "Coppie chiave-valore:  [('pi', 3.141592653589793), ('g', 6.6743e-11)]\n",
      "1.67262192369e-27\n"
     ]
    }
   ],
   "source": [
    "## dict\n",
    "import scipy\n",
    "\n",
    "constant = {'pi': scipy.constants.pi, 'g': scipy.constants.G}\n",
    "\n",
    "print(constant['pi'])\n",
    "\n",
    "print(\"Coppie chiave-valore: \", list(constant.items()))\n",
    "\n",
    "constant.update({\"protonMass\":scipy.constants.proton_mass})\n",
    "print(constant['protonMass'])"
   ]
  },
  {
   "cell_type": "code",
   "execution_count": 42,
   "id": "e0121cde-ac1c-42c4-a2db-6f5cd1ae9bb1",
   "metadata": {},
   "outputs": [
    {
     "name": "stdout",
     "output_type": "stream",
     "text": [
      "{1, 2, 3, 5, 7, 11, 13, 17, 19}\n",
      "{1, 2, 3, 5, 7, 11, 13, 17, 19, 29}\n",
      "{1, 2, 3, 5, 7, 11, 13, 17}\n",
      "{1, 2, 3, 5, 7, 11, 13, 17, 19, 29}\n"
     ]
    }
   ],
   "source": [
    "## set\n",
    "primi = {1, 2, 3, 5, 7, 11, 13, 17, 19}\n",
    "\n",
    "print(primi)\n",
    "\n",
    "primi.add(29)\n",
    "print(primi)\n",
    "\n",
    "primi.discard(19)\n",
    "primi.discard(29)\n",
    "print(primi)\n",
    "\n",
    "add_primi = {19, 29}\n",
    "u = primi.union(add_primi)\n",
    "print(u)"
   ]
  },
  {
   "cell_type": "code",
   "execution_count": 56,
   "id": "f0eeb1f8-32af-453b-8887-b5c70c4cf1a4",
   "metadata": {},
   "outputs": [
    {
     "name": "stdout",
     "output_type": "stream",
     "text": [
      "Elementi essenziali presenti nel campione: frozenset({'azoto', 'carbonio', 'ossigeno'})\n",
      "Elementi essenziali mancanti nel campione: frozenset({'idrogeno', 'zolfo', 'fosforo'})\n",
      "Il campione non contiene elementi essenziali? False\n"
     ]
    }
   ],
   "source": [
    "elementi_essenziali = frozenset([\"carbonio\", \"idrogeno\", \"ossigeno\", \"azoto\", \"fosforo\", \"zolfo\"])\n",
    "elementi_campione = {\"carbonio\", \"ferro\", \"ossigeno\", \"calcio\", \"azoto\"}\n",
    "\n",
    "\n",
    "elementi_presenti = elementi_essenziali.intersection(elementi_campione)\n",
    "print(\"Elementi essenziali presenti nel campione:\", elementi_presenti)\n",
    "\n",
    "elementi_mancanti = elementi_essenziali.difference(elementi_campione)\n",
    "print(\"Elementi essenziali mancanti nel campione:\", elementi_mancanti)\n",
    "\n",
    "nessun_elemento_essenziale = elementi_essenziali.isdisjoint(elementi_campione)\n",
    "print(\"Il campione non contiene elementi essenziali?\", nessun_elemento_essenziale)"
   ]
  },
  {
   "cell_type": "markdown",
   "id": "fe4a80f2-a74c-4375-ad2b-97cb81ca6dac",
   "metadata": {},
   "source": [
    "#### Numpy Array\n",
    "\n",
    "Descrizione: NumPy è una libreria fondamentale per il calcolo scientifico in Python. Gli array NumPy sono strutture multidimensionali che supportano operazioni vettoriali efficienti, ideali per il calcolo numerico e l’analisi dei dati."
   ]
  },
  {
   "cell_type": "code",
   "execution_count": 74,
   "id": "d4b0496c-6b97-4842-bf03-b030a517ebde",
   "metadata": {},
   "outputs": [
    {
     "name": "stdout",
     "output_type": "stream",
     "text": [
      "[1 2 3 4 5]\n",
      "<class 'numpy.ndarray'>\n",
      "137060864458064\n",
      "\n",
      " [ 1  4  9 16 25]\n",
      "137060997344848\n",
      "\n",
      " [[1 2]\n",
      " [2 1]]\n",
      "\n",
      " -2.9999999999999996\n",
      "\n",
      " [3 3]\n",
      "\n",
      " 1.5\n",
      "\n",
      " [[4 8]\n",
      " [8 4]]\n"
     ]
    }
   ],
   "source": [
    "import numpy as np\n",
    "\n",
    "array_1d = np.array([1,2,3,4,5])\n",
    "print(array_1d)\n",
    "print(type(array_1d))\n",
    "print(id(array_1d))\n",
    "\n",
    "\n",
    "array_1d = array_1d ** 2\n",
    "print(\"\\n\", array_1d)\n",
    "print(id(array_1d)) ## numpy.ndarray sono quindi immutabili\n",
    "\n",
    "array_2d = np.array([[1,2], [2,1]])\n",
    "print(\"\\n\", array_2d)\n",
    "\n",
    "det = np.linalg.det(array_2d) # calcolo del determinante di un array 2 * 2\n",
    "print(\"\\n\", det)\n",
    "\n",
    "sum_colonne = array_2d.sum(axis=0) # somma colonne\n",
    "print(\"\\n\", sum_colonne)\n",
    "\n",
    "media = array_2d.mean() # calcolo della media\n",
    "print(\"\\n\", media)\n",
    "\n",
    "molt_lambda = array_2d * 4 # moltiplicazione per uno scalare\n",
    "print(\"\\n\", molt_lambda)"
   ]
  },
  {
   "cell_type": "markdown",
   "id": "94991d4d-7e2c-4fc4-bf71-a850e4ff6255",
   "metadata": {},
   "source": [
    "#### SciPy Sparse Matrices\n",
    "\n",
    "La libreria SciPy offre supporto per matrici sparse, ossia matrici che contengono principalmente zeri, per ottimizzare la memoria e le prestazioni. Vengono usate in ambiti come l'algebra lineare, il machine learning, e il trattamento di dati molto grandi, come nelle reti di connessioni o grafi."
   ]
  },
  {
   "cell_type": "code",
   "execution_count": 76,
   "id": "8eee30bb-c785-498e-84c7-266f89f3c386",
   "metadata": {},
   "outputs": [
    {
     "name": "stdout",
     "output_type": "stream",
     "text": [
      "[[0 0 3]\n",
      " [4 0 0]\n",
      " [0 0 1]]\n",
      "<Compressed Sparse Row sparse matrix of dtype 'int64'\n",
      "\twith 3 stored elements and shape (3, 3)>\n",
      "  Coords\tValues\n",
      "  (0, 2)\t3\n",
      "  (1, 0)\t4\n",
      "  (2, 2)\t1\n"
     ]
    }
   ],
   "source": [
    "from scipy.sparse import csr_matrix as matrix\n",
    "\n",
    "matrice_densa = np.array([[0,0,3],[4,0,0],[0,0,1]])\n",
    "print(matrice_densa)\n",
    "\n",
    "matrice_sparsa = matrix(matrice_densa)\n",
    "print(matrice_sparsa)"
   ]
  },
  {
   "cell_type": "markdown",
   "id": "cdc7f43f-4028-4860-9574-d84f2fe7843f",
   "metadata": {},
   "source": [
    "#### SymPy per il calcolo simbolico\n",
    "\n",
    "SymPy è una libreria per il calcolo simbolico, usata per la manipolazione algebrica, l'integrazione e la risoluzione di equazioni. È utile per algebra lineare simbolica, derivate, integrali e risoluzione di equazioni."
   ]
  },
  {
   "cell_type": "code",
   "execution_count": 85,
   "id": "540bfed4-9754-4467-9f99-cc8472ff3396",
   "metadata": {},
   "outputs": [
    {
     "name": "stdout",
     "output_type": "stream",
     "text": [
      "<class 'sympy.core.symbol.Symbol'>\n",
      "137060678308208\n",
      "\n",
      "f(x) =  x**3 + 2*x**2 + x + 5\n",
      "\n",
      "f'(x) =  3*x**2 + 4*x + 1\n"
     ]
    }
   ],
   "source": [
    "import sympy as sp\n",
    "\n",
    "x = sp.symbols(\"x\")\n",
    "print(type(x))\n",
    "print(id(x))\n",
    "\n",
    "fx = x**3 + 2*x**2 + x + 5 # definizione di una funzione\n",
    "print(\"\\nf(x) = \", fx)\n",
    "\n",
    "fpx = sp.diff(fx, x)\n",
    "print(\"\\nf'(x) = \", fpx)"
   ]
  },
  {
   "cell_type": "markdown",
   "id": "bc53fc20-e26f-4505-becb-1b63960528e4",
   "metadata": {},
   "source": [
    "#### Pandas Dataset\n",
    "\n",
    "Pandas è una libreria potente per l’analisi e la manipolazione dei dati. I DataFrame sono strutture tabellari che permettono di analizzare, filtrare e trasformare grandi quantità di dati con facilità, rendendoli ideali per dataset strutturati."
   ]
  },
  {
   "cell_type": "code",
   "execution_count": 106,
   "id": "76ebe671-c1d4-469b-9c2a-d011addc8b06",
   "metadata": {},
   "outputs": [
    {
     "name": "stdout",
     "output_type": "stream",
     "text": [
      "  id_stazione            data_ora  temperatura_C  umidità_relativa  co2_ppm\n",
      "0  stazione_1 2024-10-26 08:00:00           18.5                55      400\n",
      "1  stazione_1 2024-10-26 12:00:00           21.3                50      405\n",
      "2  stazione_1 2024-10-26 16:00:00           19.8                53      398\n",
      "3  stazione_2 2024-10-26 08:00:00           19.1                60      390\n",
      "4  stazione_2 2024-10-26 12:00:00           22.0                55      395\n",
      "5  stazione_2 2024-10-26 16:00:00           20.5                58      389\n",
      "\n",
      " <class 'pandas.core.frame.DataFrame'>\n",
      "                  data_ora  temperatura_C  umidità_relativa     co2_ppm\n",
      "count                    6        6.00000          6.000000    6.000000\n",
      "mean   2024-10-26 12:00:00       20.20000         55.166667  396.166667\n",
      "min    2024-10-26 08:00:00       18.50000         50.000000  389.000000\n",
      "25%    2024-10-26 09:00:00       19.27500         53.500000  391.250000\n",
      "50%    2024-10-26 12:00:00       20.15000         55.000000  396.500000\n",
      "75%    2024-10-26 15:00:00       21.10000         57.250000  399.500000\n",
      "max    2024-10-26 16:00:00       22.00000         60.000000  405.000000\n",
      "std                    NaN        1.32665          3.544949    6.112828\n",
      "\n",
      "\n",
      "DataFrame filtrato:    id_stazione            data_ora  temperatura_C  umidità_relativa  co2_ppm\n",
      "1  stazione_1 2024-10-26 12:00:00           21.3                50      405\n",
      "4  stazione_2 2024-10-26 12:00:00           22.0                55      395\n",
      "5  stazione_2 2024-10-26 16:00:00           20.5                58      389\n",
      "\n",
      "\n",
      "Media per stazione:                        data_ora  temperatura_C  umidità_relativa     co2_ppm\n",
      "id_stazione                                                                 \n",
      "stazione_1  2024-10-26 12:00:00      19.866667         52.666667  401.000000\n",
      "stazione_2  2024-10-26 12:00:00      20.533333         57.666667  391.333333\n"
     ]
    }
   ],
   "source": [
    "import pandas as pd\n",
    "\n",
    "dati = {\n",
    "    \"id_stazione\": [\"stazione_1\", \"stazione_1\", \"stazione_1\", \"stazione_2\", \"stazione_2\", \"stazione_2\"],\n",
    "    \"data_ora\": pd.to_datetime([\n",
    "        \"2024-10-26 08:00:00\",\n",
    "        \"2024-10-26 12:00:00\",\n",
    "        \"2024-10-26 16:00:00\",\n",
    "        \"2024-10-26 08:00:00\",\n",
    "        \"2024-10-26 12:00:00\",\n",
    "        \"2024-10-26 16:00:00\"\n",
    "    ]),\n",
    "    \"temperatura_C\": [18.5, 21.3, 19.8, 19.1, 22.0, 20.5],\n",
    "    \"umidità_relativa\": [55, 50, 53, 60, 55, 58],\n",
    "    \"co2_ppm\": [400, 405, 398, 390, 395, 389]\n",
    "}\n",
    "\n",
    "df = pd.DataFrame(dati)\n",
    "print(df)\n",
    "print(\"\\n\", type(df))\n",
    "\n",
    "stats = df.describe()\n",
    "print(stats)\n",
    "\n",
    "df_filtred = df[df[\"temperatura_C\"] > 20]\n",
    "print(\"\\n\\nDataFrame filtrato: \", df_filtred)\n",
    "\n",
    "media_per_stazione = df.groupby(\"id_stazione\").mean()\n",
    "print(\"\\n\\nMedia per stazione:\", media_per_stazione)"
   ]
  },
  {
   "cell_type": "markdown",
   "id": "a671f639-8b06-4b56-bcee-8d893e5e05e6",
   "metadata": {},
   "source": [
    "#### JSON\n",
    "\n",
    "JSON è un formato leggero per lo scambio di dati, comunemente utilizzato per la comunicazione tra client e server. In Python, i dati JSON possono essere gestiti come dizionari o liste, rendendoli ideali per strutture dati gerarchiche e leggere."
   ]
  },
  {
   "cell_type": "code",
   "execution_count": 91,
   "id": "8ab1727a-087a-4984-90dc-19a0c31b399a",
   "metadata": {},
   "outputs": [
    {
     "name": "stdout",
     "output_type": "stream",
     "text": [
      "{\n",
      "  \"esperimento\": \"Monitoraggio Ambientale\",\n",
      "  \"data_inizio\": \"2024-10-26\",\n",
      "  \"data_fine\": \"2024-11-02\",\n",
      "  \"stazioni\": [\n",
      "    {\n",
      "      \"id\": \"stazione_1\",\n",
      "      \"nome\": \"Stazione Nord\",\n",
      "      \"coordinati\": {\n",
      "        \"latitudine\": 45.1234,\n",
      "        \"longitudine\": 12.5678\n",
      "      },\n",
      "      \"misurazioni\": [\n",
      "        {\n",
      "          \"timestamp\": \"2024-10-26T08:00:00Z\",\n",
      "          \"temperatura_C\": 18.5,\n",
      "          \"umidità_relativa\": 55,\n",
      "          \"co2_ppm\": 400\n",
      "        },\n",
      "        {\n",
      "          \"timestamp\": \"2024-10-26T12:00:00Z\",\n",
      "          \"temperatura_C\": 21.3,\n",
      "          \"umidità_relativa\": 50,\n",
      "          \"co2_ppm\": 405\n",
      "        }\n",
      "      ]\n",
      "    },\n",
      "    {\n",
      "      \"id\": \"stazione_2\",\n",
      "      \"nome\": \"Stazione Sud\",\n",
      "      \"coordinati\": {\n",
      "        \"latitudine\": 44.9876,\n",
      "        \"longitudine\": 11.8765\n",
      "      },\n",
      "      \"misurazioni\": [\n",
      "        {\n",
      "          \"timestamp\": \"2024-10-26T08:00:00Z\",\n",
      "          \"temperatura_C\": 19.1,\n",
      "          \"umidità_relativa\": 60,\n",
      "          \"co2_ppm\": 390\n",
      "        },\n",
      "        {\n",
      "          \"timestamp\": \"2024-10-26T12:00:00Z\",\n",
      "          \"temperatura_C\": 22.0,\n",
      "          \"umidità_relativa\": 55,\n",
      "          \"co2_ppm\": 395\n",
      "        }\n",
      "      ]\n",
      "    }\n",
      "  ]\n",
      "}\n",
      "\n",
      " <class 'str'>\n"
     ]
    }
   ],
   "source": [
    "import json\n",
    "\n",
    "j_data = '''{\n",
    "  \"esperimento\": \"Monitoraggio Ambientale\",\n",
    "  \"data_inizio\": \"2024-10-26\",\n",
    "  \"data_fine\": \"2024-11-02\",\n",
    "  \"stazioni\": [\n",
    "    {\n",
    "      \"id\": \"stazione_1\",\n",
    "      \"nome\": \"Stazione Nord\",\n",
    "      \"coordinati\": {\n",
    "        \"latitudine\": 45.1234,\n",
    "        \"longitudine\": 12.5678\n",
    "      },\n",
    "      \"misurazioni\": [\n",
    "        {\n",
    "          \"timestamp\": \"2024-10-26T08:00:00Z\",\n",
    "          \"temperatura_C\": 18.5,\n",
    "          \"umidità_relativa\": 55,\n",
    "          \"co2_ppm\": 400\n",
    "        },\n",
    "        {\n",
    "          \"timestamp\": \"2024-10-26T12:00:00Z\",\n",
    "          \"temperatura_C\": 21.3,\n",
    "          \"umidità_relativa\": 50,\n",
    "          \"co2_ppm\": 405\n",
    "        }\n",
    "      ]\n",
    "    },\n",
    "    {\n",
    "      \"id\": \"stazione_2\",\n",
    "      \"nome\": \"Stazione Sud\",\n",
    "      \"coordinati\": {\n",
    "        \"latitudine\": 44.9876,\n",
    "        \"longitudine\": 11.8765\n",
    "      },\n",
    "      \"misurazioni\": [\n",
    "        {\n",
    "          \"timestamp\": \"2024-10-26T08:00:00Z\",\n",
    "          \"temperatura_C\": 19.1,\n",
    "          \"umidità_relativa\": 60,\n",
    "          \"co2_ppm\": 390\n",
    "        },\n",
    "        {\n",
    "          \"timestamp\": \"2024-10-26T12:00:00Z\",\n",
    "          \"temperatura_C\": 22.0,\n",
    "          \"umidità_relativa\": 55,\n",
    "          \"co2_ppm\": 395\n",
    "        }\n",
    "      ]\n",
    "    }\n",
    "  ]\n",
    "}'''\n",
    "\n",
    "print(j_data)\n",
    "\n",
    "print(\"\\n\", type(j_data)) #str"
   ]
  },
  {
   "cell_type": "code",
   "execution_count": 95,
   "id": "451ed4f6-94bd-4817-8692-406c9559889d",
   "metadata": {},
   "outputs": [
    {
     "name": "stdout",
     "output_type": "stream",
     "text": [
      "{'esperimento': 'Monitoraggio Ambientale', 'data_inizio': '2024-10-26', 'data_fine': '2024-11-02', 'stazioni': [{'id': 'stazione_1', 'nome': 'Stazione Nord', 'coordinati': {'latitudine': 45.1234, 'longitudine': 12.5678}, 'misurazioni': [{'timestamp': '2024-10-26T08:00:00Z', 'temperatura_C': 18.5, 'umidità_relativa': 55, 'co2_ppm': 400}, {'timestamp': '2024-10-26T12:00:00Z', 'temperatura_C': 21.3, 'umidità_relativa': 50, 'co2_ppm': 405}]}, {'id': 'stazione_2', 'nome': 'Stazione Sud', 'coordinati': {'latitudine': 44.9876, 'longitudine': 11.8765}, 'misurazioni': [{'timestamp': '2024-10-26T08:00:00Z', 'temperatura_C': 19.1, 'umidità_relativa': 60, 'co2_ppm': 390}, {'timestamp': '2024-10-26T12:00:00Z', 'temperatura_C': 22.0, 'umidità_relativa': 55, 'co2_ppm': 395}]}]}\n",
      "\n",
      " <class 'dict'>\n"
     ]
    }
   ],
   "source": [
    "data = json.loads(j_data) # conversione da str a json\n",
    "\n",
    "print(data)\n",
    "print(\"\\n\", type(data))"
   ]
  }
 ],
 "metadata": {
  "kernelspec": {
   "display_name": "Python 3 (ipykernel)",
   "language": "python",
   "name": "python3"
  },
  "language_info": {
   "codemirror_mode": {
    "name": "ipython",
    "version": 3
   },
   "file_extension": ".py",
   "mimetype": "text/x-python",
   "name": "python",
   "nbconvert_exporter": "python",
   "pygments_lexer": "ipython3",
   "version": "3.12.7"
  }
 },
 "nbformat": 4,
 "nbformat_minor": 5
}

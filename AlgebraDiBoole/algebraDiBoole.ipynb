{
 "cells": [
  {
   "cell_type": "markdown",
   "id": "73eb35d1-52c8-4050-afe0-8021a5cb4ff5",
   "metadata": {},
   "source": [
    "## Algebra Booleana implementazione in Python"
   ]
  },
  {
   "cell_type": "markdown",
   "id": "f5ba2861-1372-4314-ba89-59138b503685",
   "metadata": {},
   "source": [
    "##### AND \n",
    "\n",
    "Prodotto Logico"
   ]
  },
  {
   "cell_type": "code",
   "execution_count": 5,
   "id": "227f1e8c-32fb-4d44-abb9-e7278f71825e",
   "metadata": {},
   "outputs": [
    {
     "data": {
      "text/plain": [
       "True"
      ]
     },
     "execution_count": 5,
     "metadata": {},
     "output_type": "execute_result"
    }
   ],
   "source": [
    "True and True"
   ]
  },
  {
   "cell_type": "code",
   "execution_count": 6,
   "id": "fbce73dd-faf4-46a6-8a52-8c3f39222f15",
   "metadata": {},
   "outputs": [
    {
     "data": {
      "text/plain": [
       "False"
      ]
     },
     "execution_count": 6,
     "metadata": {},
     "output_type": "execute_result"
    }
   ],
   "source": [
    "True and False"
   ]
  },
  {
   "cell_type": "code",
   "execution_count": 7,
   "id": "1a715784-dd72-45ef-83b3-df78a249e443",
   "metadata": {},
   "outputs": [
    {
     "data": {
      "text/plain": [
       "False"
      ]
     },
     "execution_count": 7,
     "metadata": {},
     "output_type": "execute_result"
    }
   ],
   "source": [
    "False and True"
   ]
  },
  {
   "cell_type": "code",
   "execution_count": 8,
   "id": "a3ef5faa-2933-4da1-a0b4-5e5a3cd40f9c",
   "metadata": {},
   "outputs": [
    {
     "data": {
      "text/plain": [
       "False"
      ]
     },
     "execution_count": 8,
     "metadata": {},
     "output_type": "execute_result"
    }
   ],
   "source": [
    "False and False"
   ]
  },
  {
   "cell_type": "markdown",
   "id": "6f197d62-4059-406c-bbfa-b378bba40aa4",
   "metadata": {},
   "source": [
    "##### OR\n",
    "\n",
    "Somma Logica"
   ]
  },
  {
   "cell_type": "code",
   "execution_count": 9,
   "id": "24d2ea2d-6bc7-4531-a0bb-dbcce1734edf",
   "metadata": {},
   "outputs": [
    {
     "data": {
      "text/plain": [
       "True"
      ]
     },
     "execution_count": 9,
     "metadata": {},
     "output_type": "execute_result"
    }
   ],
   "source": [
    "True or False"
   ]
  },
  {
   "cell_type": "code",
   "execution_count": 10,
   "id": "76e2047e-0694-4f00-a836-6cd5c2e73f6e",
   "metadata": {},
   "outputs": [
    {
     "data": {
      "text/plain": [
       "True"
      ]
     },
     "execution_count": 10,
     "metadata": {},
     "output_type": "execute_result"
    }
   ],
   "source": [
    "False or True"
   ]
  },
  {
   "cell_type": "code",
   "execution_count": 12,
   "id": "d74cd616-d42c-4e05-8022-0edbdd5be2b0",
   "metadata": {},
   "outputs": [
    {
     "data": {
      "text/plain": [
       "True"
      ]
     },
     "execution_count": 12,
     "metadata": {},
     "output_type": "execute_result"
    }
   ],
   "source": [
    "True or True"
   ]
  },
  {
   "cell_type": "code",
   "execution_count": 11,
   "id": "658bc232-7019-43ea-ba98-bd69d56efdbb",
   "metadata": {},
   "outputs": [
    {
     "data": {
      "text/plain": [
       "False"
      ]
     },
     "execution_count": 11,
     "metadata": {},
     "output_type": "execute_result"
    }
   ],
   "source": [
    "False or False"
   ]
  },
  {
   "cell_type": "markdown",
   "id": "76c6c4f2-49ac-4c55-9a37-5563428cb575",
   "metadata": {},
   "source": [
    "##### Negazione"
   ]
  },
  {
   "cell_type": "code",
   "execution_count": 13,
   "id": "c53081c0-9f37-4bf6-90a7-9a8a63789585",
   "metadata": {},
   "outputs": [
    {
     "data": {
      "text/plain": [
       "False"
      ]
     },
     "execution_count": 13,
     "metadata": {},
     "output_type": "execute_result"
    }
   ],
   "source": [
    "not True"
   ]
  },
  {
   "cell_type": "code",
   "execution_count": 14,
   "id": "09e25f86-c608-4483-b2b1-4d04f755a7aa",
   "metadata": {},
   "outputs": [
    {
     "data": {
      "text/plain": [
       "True"
      ]
     },
     "execution_count": 14,
     "metadata": {},
     "output_type": "execute_result"
    }
   ],
   "source": [
    "not False"
   ]
  },
  {
   "cell_type": "markdown",
   "id": "3fb33997-26a1-4ec8-94fc-135b9a73fa68",
   "metadata": {},
   "source": [
    "##### NAND \n",
    "\n",
    "not and"
   ]
  },
  {
   "cell_type": "code",
   "execution_count": 15,
   "id": "941fa8b6-e8fb-4189-9771-134ad95b8e65",
   "metadata": {},
   "outputs": [
    {
     "data": {
      "text/plain": [
       "False"
      ]
     },
     "execution_count": 15,
     "metadata": {},
     "output_type": "execute_result"
    }
   ],
   "source": [
    "not(True and True)"
   ]
  },
  {
   "cell_type": "code",
   "execution_count": 16,
   "id": "cef3101d-d75c-4224-a09d-d6b48c9eb32e",
   "metadata": {},
   "outputs": [
    {
     "data": {
      "text/plain": [
       "True"
      ]
     },
     "execution_count": 16,
     "metadata": {},
     "output_type": "execute_result"
    }
   ],
   "source": [
    "not(False and False)"
   ]
  },
  {
   "cell_type": "code",
   "execution_count": 17,
   "id": "0ec28645-12eb-4f8d-b910-4dffd6862f59",
   "metadata": {},
   "outputs": [
    {
     "data": {
      "text/plain": [
       "True"
      ]
     },
     "execution_count": 17,
     "metadata": {},
     "output_type": "execute_result"
    }
   ],
   "source": [
    "not(True and False)"
   ]
  },
  {
   "cell_type": "code",
   "execution_count": 18,
   "id": "2bbf8dd3-46c3-4b78-a95a-b96c0db85569",
   "metadata": {},
   "outputs": [
    {
     "data": {
      "text/plain": [
       "True"
      ]
     },
     "execution_count": 18,
     "metadata": {},
     "output_type": "execute_result"
    }
   ],
   "source": [
    "not(False and True)"
   ]
  },
  {
   "cell_type": "markdown",
   "id": "da401b97-19bf-4b0c-a946-4bb809cbe0b5",
   "metadata": {},
   "source": [
    "##### NOR\n",
    "\n",
    "not or"
   ]
  },
  {
   "cell_type": "code",
   "execution_count": 19,
   "id": "d361d7d8-9ac6-432e-96e7-0b6f8740ec00",
   "metadata": {},
   "outputs": [
    {
     "data": {
      "text/plain": [
       "False"
      ]
     },
     "execution_count": 19,
     "metadata": {},
     "output_type": "execute_result"
    }
   ],
   "source": [
    "not(True or True)"
   ]
  },
  {
   "cell_type": "code",
   "execution_count": 20,
   "id": "514f68d3-f100-4eb5-904e-c2ebc42acfa5",
   "metadata": {},
   "outputs": [
    {
     "data": {
      "text/plain": [
       "True"
      ]
     },
     "execution_count": 20,
     "metadata": {},
     "output_type": "execute_result"
    }
   ],
   "source": [
    "not(False or False)"
   ]
  },
  {
   "cell_type": "code",
   "execution_count": 21,
   "id": "6c1b4293-fc8b-43f4-a794-585158896baf",
   "metadata": {},
   "outputs": [
    {
     "data": {
      "text/plain": [
       "False"
      ]
     },
     "execution_count": 21,
     "metadata": {},
     "output_type": "execute_result"
    }
   ],
   "source": [
    "not(True or False)"
   ]
  },
  {
   "cell_type": "code",
   "execution_count": 22,
   "id": "5aba909f-f2fe-41f8-83f5-9bdf932a7efa",
   "metadata": {},
   "outputs": [
    {
     "data": {
      "text/plain": [
       "False"
      ]
     },
     "execution_count": 22,
     "metadata": {},
     "output_type": "execute_result"
    }
   ],
   "source": [
    "not(False or True)"
   ]
  },
  {
   "cell_type": "markdown",
   "id": "ea451359-77ac-410f-863d-59bb35f9a9df",
   "metadata": {},
   "source": [
    "##### XOR \n",
    "\n",
    "Or esclusivo"
   ]
  },
  {
   "cell_type": "code",
   "execution_count": 28,
   "id": "376b2c29-c656-47d1-8019-39e150cd42e9",
   "metadata": {},
   "outputs": [],
   "source": [
    "def xor(x, y):\n",
    "    return bool((x and not y) or (not x and y))"
   ]
  },
  {
   "cell_type": "code",
   "execution_count": 29,
   "id": "5ed9a4d3-9c15-4aae-ad6d-eb5429a5d66a",
   "metadata": {},
   "outputs": [
    {
     "data": {
      "text/plain": [
       "False"
      ]
     },
     "execution_count": 29,
     "metadata": {},
     "output_type": "execute_result"
    }
   ],
   "source": [
    "xor(True, True)"
   ]
  },
  {
   "cell_type": "code",
   "execution_count": 30,
   "id": "c1f32d11-a97a-4c9b-99db-603986668a16",
   "metadata": {},
   "outputs": [
    {
     "data": {
      "text/plain": [
       "False"
      ]
     },
     "execution_count": 30,
     "metadata": {},
     "output_type": "execute_result"
    }
   ],
   "source": [
    "xor(False, False)"
   ]
  },
  {
   "cell_type": "code",
   "execution_count": 31,
   "id": "2a3b8839-a57e-43e6-8493-3052ce965890",
   "metadata": {},
   "outputs": [
    {
     "data": {
      "text/plain": [
       "True"
      ]
     },
     "execution_count": 31,
     "metadata": {},
     "output_type": "execute_result"
    }
   ],
   "source": [
    "xor(True, False)"
   ]
  },
  {
   "cell_type": "code",
   "execution_count": 32,
   "id": "951a3dd0-f255-4c1e-8167-56fa889fe099",
   "metadata": {},
   "outputs": [
    {
     "data": {
      "text/plain": [
       "True"
      ]
     },
     "execution_count": 32,
     "metadata": {},
     "output_type": "execute_result"
    }
   ],
   "source": [
    "xor(False, True)"
   ]
  },
  {
   "cell_type": "markdown",
   "id": "0d3c4182-e2fe-47a5-b508-77cb0226dd92",
   "metadata": {},
   "source": [
    "##### XNOR\n",
    "\n",
    "not xor"
   ]
  },
  {
   "cell_type": "code",
   "execution_count": 33,
   "id": "deedbf0f-ad28-45b2-9b2a-28cc2dc72cc7",
   "metadata": {},
   "outputs": [
    {
     "data": {
      "text/plain": [
       "True"
      ]
     },
     "execution_count": 33,
     "metadata": {},
     "output_type": "execute_result"
    }
   ],
   "source": [
    "not(xor(True, True))"
   ]
  },
  {
   "cell_type": "code",
   "execution_count": 34,
   "id": "a0666162-5565-4a8f-a081-d42deafb6c82",
   "metadata": {},
   "outputs": [
    {
     "data": {
      "text/plain": [
       "True"
      ]
     },
     "execution_count": 34,
     "metadata": {},
     "output_type": "execute_result"
    }
   ],
   "source": [
    "not(xor(False, False))"
   ]
  },
  {
   "cell_type": "code",
   "execution_count": 35,
   "id": "aa8fd933-0a47-4e4b-b97c-8f73283e9eab",
   "metadata": {},
   "outputs": [
    {
     "data": {
      "text/plain": [
       "False"
      ]
     },
     "execution_count": 35,
     "metadata": {},
     "output_type": "execute_result"
    }
   ],
   "source": [
    "not(xor(True, False))"
   ]
  },
  {
   "cell_type": "code",
   "execution_count": 36,
   "id": "fa3d88a8-e2d5-4450-a105-c243557432cc",
   "metadata": {},
   "outputs": [
    {
     "data": {
      "text/plain": [
       "False"
      ]
     },
     "execution_count": 36,
     "metadata": {},
     "output_type": "execute_result"
    }
   ],
   "source": [
    "not(xor(False, True))"
   ]
  },
  {
   "cell_type": "code",
   "execution_count": 49,
   "id": "f8071877-60f6-4f6d-8388-50ee9b55bc2e",
   "metadata": {},
   "outputs": [
    {
     "name": "stdout",
     "output_type": "stream",
     "text": [
      "Decimal 57 to Binary: 111001\n",
      "Binary 111001 to Decimal: 57\n"
     ]
    }
   ],
   "source": [
    "def dexToBinary(dexNumber: int) -> str:\n",
    "    return bin(dexNumber).replace(\"0b\", \"\")\n",
    "\n",
    "def binToDex(binNumber: str) -> int:\n",
    "    return int(binNumber, 2)\n",
    "\n",
    "decimal_number = 57\n",
    "binary_representation = dexToBinary(decimal_number)\n",
    "print(f\"Decimal {decimal_number} to Binary: {binary_representation}\")\n",
    "\n",
    "binary_number = dexToBinary(decimal_number)\n",
    "decimal_representation = binToDex(binary_number)\n",
    "print(f\"Binary {binary_number} to Decimal: {decimal_representation}\")"
   ]
  },
  {
   "cell_type": "code",
   "execution_count": 39,
   "id": "674f8ef2-36e0-4156-8219-fb0b35b18235",
   "metadata": {},
   "outputs": [],
   "source": [
    "## Somma binaria\n",
    "\n",
    "def binarySum():\n",
    "    return"
   ]
  },
  {
   "cell_type": "code",
   "execution_count": null,
   "id": "901219a3-5670-46ec-8e5c-3a343ed20302",
   "metadata": {},
   "outputs": [],
   "source": [
    "## Prodotto binario\n",
    "\n",
    "def binaryProduct():\n",
    "    return"
   ]
  },
  {
   "cell_type": "markdown",
   "id": "b5f90907-fd42-44cf-bf25-bf769f737e67",
   "metadata": {},
   "source": [
    "##### Tabelle di Verità"
   ]
  },
  {
   "cell_type": "code",
   "execution_count": 5,
   "id": "74ccddb6-3b6c-43a0-8d46-82b9eb117b9b",
   "metadata": {},
   "outputs": [
    {
     "data": {
      "text/plain": [
       "False"
      ]
     },
     "execution_count": 5,
     "metadata": {},
     "output_type": "execute_result"
    }
   ],
   "source": [
    "a = True\n",
    "b = True\n",
    "\n",
    "(a or b) and not a"
   ]
  }
 ],
 "metadata": {
  "kernelspec": {
   "display_name": "Python 3 (ipykernel)",
   "language": "python",
   "name": "python3"
  },
  "language_info": {
   "codemirror_mode": {
    "name": "ipython",
    "version": 3
   },
   "file_extension": ".py",
   "mimetype": "text/x-python",
   "name": "python",
   "nbconvert_exporter": "python",
   "pygments_lexer": "ipython3",
   "version": "3.12.7"
  }
 },
 "nbformat": 4,
 "nbformat_minor": 5
}

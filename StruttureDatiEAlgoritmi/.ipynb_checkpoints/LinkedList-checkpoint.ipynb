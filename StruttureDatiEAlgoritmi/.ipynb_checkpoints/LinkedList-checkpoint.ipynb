{
 "cells": [
  {
   "cell_type": "markdown",
   "id": "17622d9a-a3af-4d56-8889-267c4e262ae6",
   "metadata": {},
   "source": [
    "## Linked List\n",
    "\n",
    "Una linked list è una struttura dati composta da una sequenza di nodi, ognuno dei quali contiene due campi: uno per i dati (\"data\") e uno per l'indirizzo del nodo successivo (\"next\"). L'ultimo nodo contiene un puntatore nullo che indica la fine della lista. A differenza degli array, dove gli elementi sono memorizzati in posizioni contigue in memoria, i nodi di una linked list sono distribuiti e collegati tramite puntatori, il che consente di gestire in modo efficiente l'inserimento e la rimozione di nodi in qualsiasi punto della lista.\n",
    "\n",
    "Uno dei principali vantaggi delle linked list è la loro flessibilità: è possibile inserire o rimuovere nodi senza dover spostare gli altri elementi, a differenza degli array. Tuttavia, questo comporta un costo in termini di velocità di accesso: mentre negli array l'accesso a un elemento è diretto (indice), in una linked list è necessario scorrere i nodi uno per uno fino a raggiungere quello desiderato, rendendo il tempo di accesso proporzionale alla lunghezza della lista (O(n)).\n",
    "\n",
    "Le linked list sono particolarmente utili per implementare altre strutture dati come stack, code e liste, ma non sono ideali quando è necessario un accesso rapido e casuale ai dati. In questi casi, gli array offrono prestazioni migliori grazie alla loro migliore località della cache."
   ]
  },
  {
   "cell_type": "markdown",
   "id": "91eb4dfc-0900-4d02-b9ea-b7f614c3202e",
   "metadata": {},
   "source": [
    "#### Linked list collegate singolarmente\n",
    "\n",
    "Le linked list collegate singolarmente contengono nodi che hanno un campo data tipico di tutte le tipologie di linked list e un campo next, che punta al nodo successivo in linea di nodi. Le operazioni che possono essere eseguite in elenchi collegati singolarmente includono l'inserimento, la cancellazione e la traversa."
   ]
  },
  {
   "cell_type": "code",
   "execution_count": 6,
   "id": "9fdf171f-187b-4ee8-beb6-b7c39e8a6ae5",
   "metadata": {},
   "outputs": [
    {
     "ename": "SyntaxError",
     "evalue": "expected ':' (112834969.py, line 5)",
     "output_type": "error",
     "traceback": [
      "\u001b[0;36m  Cell \u001b[0;32mIn[6], line 5\u001b[0;36m\u001b[0m\n\u001b[0;31m    def insertAtBegin(self, data)\u001b[0m\n\u001b[0m                                 ^\u001b[0m\n\u001b[0;31mSyntaxError\u001b[0m\u001b[0;31m:\u001b[0m expected ':'\n"
     ]
    }
   ],
   "source": [
    "class List:\n",
    "    def __init__(self):\n",
    "        self.head = None\n",
    "\n",
    "    def insertAtBegin(self, data):\n",
    "        new_node = Node(Data)\n",
    "        if(self.head is  None):\n",
    "            self.head = new_node\n",
    "            return\n",
    "        else:\n",
    "            new_node.next = self.head\n",
    "            self.head = new_node\n",
    "    \n",
    "\n",
    "class Node:\n",
    "    def __init__(self, data):\n",
    "        self.data = data\n",
    "        self.next = None "
   ]
  },
  {
   "cell_type": "markdown",
   "id": "bb0cc9d4-3478-4777-9f4c-75b20b707eec",
   "metadata": {},
   "source": [
    "#### Linked list a doppio collegamento"
   ]
  }
 ],
 "metadata": {
  "kernelspec": {
   "display_name": "Python 3 (ipykernel)",
   "language": "python",
   "name": "python3"
  },
  "language_info": {
   "codemirror_mode": {
    "name": "ipython",
    "version": 3
   },
   "file_extension": ".py",
   "mimetype": "text/x-python",
   "name": "python",
   "nbconvert_exporter": "python",
   "pygments_lexer": "ipython3",
   "version": "3.12.7"
  }
 },
 "nbformat": 4,
 "nbformat_minor": 5
}
